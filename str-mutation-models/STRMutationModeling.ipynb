{
 "cells": [
  {
   "cell_type": "code",
   "execution_count": 1,
   "metadata": {},
   "outputs": [
    {
     "name": "stdout",
     "output_type": "stream",
     "text": [
      "Populating the interactive namespace from numpy and matplotlib\n"
     ]
    }
   ],
   "source": [
    "%pylab inline\n",
    "from str_mutation_functions import *"
   ]
  },
  {
   "cell_type": "markdown",
   "metadata": {},
   "source": [
    "# Exploring Tandem Repeat Mutation models\n",
    "\n",
    "This notebook uses functions defined in `str_mutation_functions.py` to simulate allele frequencies using different STR mutation parameters.\n",
    "\n",
    "Key parameters:\n",
    "* mu: Per-generation mutation rate of the central allele\n",
    "* L: Length-dependent mutation rate parameter (slope of the increase of log mutation rate with allele size)\n",
    "* beta: length constraint\n",
    "* p: step size parameter (geometric distribution)\n",
    "* num_alleles: Size of transition matrix to build. Bigger = more accurate but slower."
   ]
  },
  {
   "cell_type": "code",
   "execution_count": 18,
   "metadata": {},
   "outputs": [
    {
     "name": "stdout",
     "output_type": "stream",
     "text": [
      "Simulating mu=1e-08 beta=0.1 p=0.9 L=0\n",
      "Simulating mu=0.01 beta=0.1 p=0.9 L=0\n",
      "Simulating mu=0.001 beta=0.1 p=0.9 L=0.8\n"
     ]
    },
    {
     "ename": "TypeError",
     "evalue": "PlotAfreqs() takes 1 positional argument but 2 were given",
     "output_type": "error",
     "traceback": [
      "\u001b[0;31m---------------------------------------------------------------------------\u001b[0m",
      "\u001b[0;31mTypeError\u001b[0m                                 Traceback (most recent call last)",
      "\u001b[0;32m/var/folders/c1/k0129xhx4_bgpnnqt36vbnym0000gn/T/ipykernel_41851/3230764203.py\u001b[0m in \u001b[0;36m<module>\u001b[0;34m\u001b[0m\n\u001b[1;32m     26\u001b[0m \u001b[0mL\u001b[0m \u001b[0;34m=\u001b[0m \u001b[0;36m0.8\u001b[0m\u001b[0;34m\u001b[0m\u001b[0;34m\u001b[0m\u001b[0m\n\u001b[1;32m     27\u001b[0m \u001b[0mafreqs\u001b[0m \u001b[0;34m=\u001b[0m \u001b[0mSimulate\u001b[0m\u001b[0;34m(\u001b[0m\u001b[0mnum_alleles\u001b[0m\u001b[0;34m,\u001b[0m \u001b[0mN_e\u001b[0m\u001b[0;34m,\u001b[0m \u001b[0mmu\u001b[0m\u001b[0;34m,\u001b[0m \u001b[0mbeta\u001b[0m\u001b[0;34m,\u001b[0m \u001b[0mp\u001b[0m\u001b[0;34m,\u001b[0m \u001b[0mL\u001b[0m\u001b[0;34m,\u001b[0m \u001b[0mmax_iter\u001b[0m\u001b[0;34m,\u001b[0m \u001b[0mend_samp_n\u001b[0m\u001b[0;34m)\u001b[0m\u001b[0;34m\u001b[0m\u001b[0;34m\u001b[0m\u001b[0m\n\u001b[0;32m---> 28\u001b[0;31m \u001b[0mPlotAfreqs\u001b[0m\u001b[0;34m(\u001b[0m\u001b[0mafreqs\u001b[0m\u001b[0;34m,\u001b[0m \u001b[0;34m\"%s_%s_%s_%s_%s_%s_%s_%s.pdf\"\u001b[0m\u001b[0;34m%\u001b[0m\u001b[0;34m(\u001b[0m\u001b[0mmu\u001b[0m\u001b[0;34m,\u001b[0m \u001b[0mL\u001b[0m\u001b[0;34m,\u001b[0m \u001b[0mp\u001b[0m\u001b[0;34m,\u001b[0m \u001b[0mbeta\u001b[0m\u001b[0;34m,\u001b[0m \u001b[0mN_e\u001b[0m\u001b[0;34m,\u001b[0m \u001b[0mmax_iter\u001b[0m\u001b[0;34m,\u001b[0m \u001b[0mend_samp_n\u001b[0m\u001b[0;34m,\u001b[0m \u001b[0mnum_alleles\u001b[0m\u001b[0;34m)\u001b[0m\u001b[0;34m)\u001b[0m\u001b[0;34m\u001b[0m\u001b[0;34m\u001b[0m\u001b[0m\n\u001b[0m",
      "\u001b[0;31mTypeError\u001b[0m: PlotAfreqs() takes 1 positional argument but 2 were given"
     ]
    },
    {
     "data": {
      "image/png": "[encoded data removed]",
      "text/plain": [
       "<Figure size 432x288 with 1 Axes>"
      ]
     },
     "metadata": {
      "needs_background": "light"
     },
     "output_type": "display_data"
    },
    {
     "data": {
      "image/png": "[encoded data removed]",
      "text/plain": [
       "<Figure size 432x288 with 1 Axes>"
      ]
     },
     "metadata": {
      "needs_background": "light"
     },
     "output_type": "display_data"
    }
   ],
   "source": [
    "######### Settings used in figure 2 ############\n",
    "import numpy as np\n",
    "np.random.seed(12345)\n",
    "\n",
    "num_alleles = 25\n",
    "N_e = 10000\n",
    "max_iter = 50000\n",
    "end_samp_n = 200\n",
    "p = 0.9\n",
    "beta = 0.1\n",
    "\n",
    "# Setting 1 - low mutation rate\n",
    "mu = 10e-9\n",
    "L = 0\n",
    "afreqs = Simulate(num_alleles, N_e, mu, beta, p, L, max_iter, end_samp_n)\n",
    "PlotAfreqs(afreqs)\n",
    "\n",
    "# Setting 2 - high mutation rate\n",
    "mu = 10e-3\n",
    "L = 0\n",
    "afreqs = Simulate(num_alleles, N_e, mu, beta, p, L, max_iter, end_samp_n)\n",
    "PlotAfreqs(afreqs)\n",
    "\n",
    "# Setting 3 - length-dependent mutation rate\n",
    "mu = 10e-4\n",
    "L = 0.8\n",
    "afreqs = Simulate(num_alleles, N_e, mu, beta, p, L, max_iter, end_samp_n)\n",
    "PlotAfreqs(afreqs, \"%s_%s_%s_%s_%s_%s_%s_%s.pdf\"%(mu, L, p, beta, N_e, max_iter, end_samp_n, num_alleles))"
   ]
  }
 ],
 "metadata": {
  "kernelspec": {
   "display_name": "Python 3 (ipykernel)",
   "language": "python",
   "name": "python3"
  },
  "language_info": {
   "codemirror_mode": {
    "name": "ipython",
    "version": 3
   },
   "file_extension": ".py",
   "mimetype": "text/x-python",
   "name": "python",
   "nbconvert_exporter": "python",
   "pygments_lexer": "ipython3",
   "version": "3.8.2"
  }
 },
 "nbformat": 4,
 "nbformat_minor": 2
}
