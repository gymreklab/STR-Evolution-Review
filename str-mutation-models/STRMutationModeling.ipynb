{
 "cells": [
  {
   "cell_type": "code",
   "execution_count": 2,
   "metadata": {},
   "outputs": [
    {
     "name": "stdout",
     "output_type": "stream",
     "text": [
      "Populating the interactive namespace from numpy and matplotlib\n"
     ]
    }
   ],
   "source": [
    "%pylab inline\n",
    "from str_mutation_functions import *"
   ]
  },
  {
   "cell_type": "markdown",
   "metadata": {},
   "source": [
    "# Exploring Tandem Repeat Mutation models\n",
    "\n",
    "This notebook uses functions defined in `str_mutation_functions.py` to simulate allele frequencies using different STR mutation parameters.\n",
    "\n",
    "Key parameters:\n",
    "* mu: Per-generation mutation rate of the central allele\n",
    "* L: Length-dependent mutation rate parameter (slope of the increase of mutation rate with allele size)\n",
    "* beta: length constraint\n",
    "* p: step size parameter (geometric distribution)\n",
    "* num_alleles: Size of transition matrix to build. Bigger = more accurate but slower."
   ]
  },
  {
   "cell_type": "code",
   "execution_count": 27,
   "metadata": {},
   "outputs": [
    {
     "data": {
      "text/plain": [
       "<AxesSubplot:xlabel='Allele (relative to opt.)', ylabel='Frequency'>"
      ]
     },
     "execution_count": 27,
     "metadata": {},
     "output_type": "execute_result"
    },
    {
     "data": {
      "image/png": "[encoded data removed]",
      "text/plain": [
       "<Figure size 432x288 with 1 Axes>"
      ]
     },
     "metadata": {
      "needs_background": "light"
     },
     "output_type": "display_data"
    }
   ],
   "source": [
    "num_alleles = 25\n",
    "N_e = 10000\n",
    "mu = 10e-4\n",
    "beta = 1\n",
    "p = 1\n",
    "L = 0\n",
    "max_iter = 50000\n",
    "end_samp_n = 0\n",
    "afreqs = Simulate(num_alleles, N_e, mu, beta, p, L, max_iter, end_samp_n)\n",
    "PlotAfreqs(afreqs)"
   ]
  }
 ],
 "metadata": {
  "kernelspec": {
   "display_name": "Python 3 (ipykernel)",
   "language": "python",
   "name": "python3"
  },
  "language_info": {
   "codemirror_mode": {
    "name": "ipython",
    "version": 3
   },
   "file_extension": ".py",
   "mimetype": "text/x-python",
   "name": "python",
   "nbconvert_exporter": "python",
   "pygments_lexer": "ipython3",
   "version": "3.8.2"
  }
 },
 "nbformat": 4,
 "nbformat_minor": 2
}
